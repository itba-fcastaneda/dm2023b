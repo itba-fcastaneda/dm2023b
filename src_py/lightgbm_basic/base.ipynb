{
 "cells": [
  {
   "cell_type": "markdown",
   "metadata": {},
   "source": [
    "### Load libraries"
   ]
  },
  {
   "cell_type": "code",
   "execution_count": 136,
   "metadata": {},
   "outputs": [],
   "source": [
    "import polars as pl\n",
    "import lightgbm as lgm\n",
    "import numpy as np\n",
    "import pandas as pd\n",
    "\n",
    "SEMILLA = 800089\n"
   ]
  },
  {
   "cell_type": "code",
   "execution_count": 137,
   "metadata": {},
   "outputs": [],
   "source": [
    "# Load a CSV and create a DataFrame\n",
    "df = pl.read_csv('~/buckets/b1/datasets/dataset_pequeno.csv', ignore_errors=True)\n"
   ]
  },
  {
   "cell_type": "code",
   "execution_count": 138,
   "metadata": {},
   "outputs": [
    {
     "data": {
      "text/html": [
       "<div><style>\n",
       ".dataframe > thead > tr > th,\n",
       ".dataframe > tbody > tr > td {\n",
       "  text-align: right;\n",
       "  white-space: pre-wrap;\n",
       "}\n",
       "</style>\n",
       "<small>shape: (5, 155)</small><table border=\"1\" class=\"dataframe\"><thead><tr><th>numero_de_cliente</th><th>foto_mes</th><th>active_quarter</th><th>cliente_vip</th><th>internet</th><th>cliente_edad</th><th>cliente_antiguedad</th><th>mrentabilidad</th><th>mrentabilidad_annual</th><th>mcomisiones</th><th>mactivos_margen</th><th>mpasivos_margen</th><th>cproductos</th><th>tcuentas</th><th>ccuenta_corriente</th><th>mcuenta_corriente_adicional</th><th>mcuenta_corriente</th><th>ccaja_ahorro</th><th>mcaja_ahorro</th><th>mcaja_ahorro_adicional</th><th>mcaja_ahorro_dolares</th><th>cdescubierto_preacordado</th><th>mcuentas_saldo</th><th>ctarjeta_debito</th><th>ctarjeta_debito_transacciones</th><th>mautoservicio</th><th>ctarjeta_visa</th><th>ctarjeta_visa_transacciones</th><th>mtarjeta_visa_consumo</th><th>ctarjeta_master</th><th>ctarjeta_master_transacciones</th><th>mtarjeta_master_consumo</th><th>cprestamos_personales</th><th>mprestamos_personales</th><th>cprestamos_prendarios</th><th>mprestamos_prendarios</th><th>cprestamos_hipotecarios</th><th>&hellip;</th><th>Master_mconsumospesos</th><th>Master_mconsumosdolares</th><th>Master_mlimitecompra</th><th>Master_madelantopesos</th><th>Master_madelantodolares</th><th>Master_fultimo_cierre</th><th>Master_mpagado</th><th>Master_mpagospesos</th><th>Master_mpagosdolares</th><th>Master_fechaalta</th><th>Master_mconsumototal</th><th>Master_cconsumos</th><th>Master_cadelantosefectivo</th><th>Master_mpagominimo</th><th>Visa_delinquency</th><th>Visa_status</th><th>Visa_mfinanciacion_limite</th><th>Visa_Fvencimiento</th><th>Visa_Finiciomora</th><th>Visa_msaldototal</th><th>Visa_msaldopesos</th><th>Visa_msaldodolares</th><th>Visa_mconsumospesos</th><th>Visa_mconsumosdolares</th><th>Visa_mlimitecompra</th><th>Visa_madelantopesos</th><th>Visa_madelantodolares</th><th>Visa_fultimo_cierre</th><th>Visa_mpagado</th><th>Visa_mpagospesos</th><th>Visa_mpagosdolares</th><th>Visa_fechaalta</th><th>Visa_mconsumototal</th><th>Visa_cconsumos</th><th>Visa_cadelantosefectivo</th><th>Visa_mpagominimo</th><th>clase_ternaria</th></tr><tr><td>i64</td><td>i64</td><td>i64</td><td>i64</td><td>i64</td><td>i64</td><td>i64</td><td>f64</td><td>f64</td><td>f64</td><td>f64</td><td>f64</td><td>i64</td><td>i64</td><td>i64</td><td>i64</td><td>f64</td><td>i64</td><td>f64</td><td>f64</td><td>f64</td><td>i64</td><td>f64</td><td>i64</td><td>i64</td><td>f64</td><td>i64</td><td>i64</td><td>f64</td><td>i64</td><td>i64</td><td>f64</td><td>i64</td><td>f64</td><td>i64</td><td>f64</td><td>i64</td><td>&hellip;</td><td>f64</td><td>f64</td><td>f64</td><td>i64</td><td>i64</td><td>i64</td><td>f64</td><td>f64</td><td>f64</td><td>i64</td><td>f64</td><td>i64</td><td>i64</td><td>f64</td><td>i64</td><td>i64</td><td>f64</td><td>i64</td><td>str</td><td>f64</td><td>f64</td><td>f64</td><td>f64</td><td>f64</td><td>f64</td><td>i64</td><td>i64</td><td>i64</td><td>f64</td><td>f64</td><td>f64</td><td>i64</td><td>f64</td><td>i64</td><td>i64</td><td>f64</td><td>str</td></tr></thead><tbody><tr><td>31116053</td><td>202107</td><td>1</td><td>0</td><td>0</td><td>50</td><td>201</td><td>13073.36</td><td>161035.99</td><td>3163.52</td><td>5554.23</td><td>2894.06</td><td>8</td><td>1</td><td>1</td><td>0</td><td>-1324.9</td><td>2</td><td>54545.59</td><td>0.0</td><td>1.0715e6</td><td>1</td><td>1.2235e6</td><td>1</td><td>15</td><td>15370.99</td><td>1</td><td>126</td><td>161078.91</td><td>1</td><td>54</td><td>92208.79</td><td>0</td><td>0.0</td><td>0</td><td>0.0</td><td>0</td><td>&hellip;</td><td>73018.61</td><td>0.0</td><td>1.5550e6</td><td>0</td><td>0</td><td>10</td><td>0.0</td><td>-22873.5</td><td>0.0</td><td>6060</td><td>73018.61</td><td>34</td><td>0</td><td>28386.6</td><td>0</td><td>0</td><td>1399475.5</td><td>-517</td><td>null</td><td>596694.3</td><td>695387.54</td><td>4534.86</td><td>121585.39</td><td>34.48</td><td>1.5550e6</td><td>0</td><td>0</td><td>10</td><td>0.0</td><td>-82110.0</td><td>0.0</td><td>6060</td><td>121585.39</td><td>75</td><td>0</td><td>77617.41</td><td>&quot;CONTINUA&quot;</td></tr><tr><td>31116803</td><td>202107</td><td>1</td><td>0</td><td>0</td><td>59</td><td>326</td><td>2640.48</td><td>56751.51</td><td>5232.22</td><td>-4483.75</td><td>2274.25</td><td>9</td><td>1</td><td>1</td><td>0</td><td>20105.36</td><td>2</td><td>76350.74</td><td>0.0</td><td>0.0</td><td>1</td><td>99393.19</td><td>2</td><td>0</td><td>0.0</td><td>1</td><td>8</td><td>49943.72</td><td>1</td><td>9</td><td>75147.77</td><td>0</td><td>0.0</td><td>0</td><td>0.0</td><td>0</td><td>&hellip;</td><td>62071.17</td><td>0.0</td><td>394128.0</td><td>0</td><td>0</td><td>24</td><td>75147.77</td><td>-74768.49</td><td>0.0</td><td>4219</td><td>62071.17</td><td>7</td><td>0</td><td>3284.4</td><td>0</td><td>0</td><td>506736.0</td><td>-913</td><td>null</td><td>43646.39</td><td>49496.83</td><td>1700.38</td><td>21596.4</td><td>15.15</td><td>563040.0</td><td>0</td><td>0</td><td>3</td><td>0.0</td><td>-85347.94</td><td>17.59</td><td>4211</td><td>21596.4</td><td>7</td><td>0</td><td>4938.33</td><td>&quot;CONTINUA&quot;</td></tr><tr><td>31117730</td><td>202107</td><td>1</td><td>0</td><td>0</td><td>68</td><td>272</td><td>1343.51</td><td>20201.31</td><td>582.94</td><td>-780.79</td><td>1429.19</td><td>8</td><td>1</td><td>1</td><td>0</td><td>0.0</td><td>2</td><td>104101.97</td><td>0.0</td><td>0.0</td><td>1</td><td>104102.23</td><td>2</td><td>0</td><td>0.0</td><td>1</td><td>3</td><td>4481.25</td><td>0</td><td>0</td><td>0.0</td><td>0</td><td>0.0</td><td>0</td><td>0.0</td><td>0</td><td>&hellip;</td><td>null</td><td>null</td><td>null</td><td>null</td><td>null</td><td>null</td><td>null</td><td>null</td><td>null</td><td>null</td><td>null</td><td>null</td><td>null</td><td>null</td><td>0</td><td>0</td><td>63342.0</td><td>-1917</td><td>null</td><td>3712.47</td><td>4354.72</td><td>0.0</td><td>1529.02</td><td>0.0</td><td>70380.0</td><td>0</td><td>0</td><td>24</td><td>4692.0</td><td>-4692.0</td><td>0.0</td><td>7951</td><td>1529.02</td><td>2</td><td>0</td><td>1407.6</td><td>&quot;CONTINUA&quot;</td></tr><tr><td>31117908</td><td>202107</td><td>1</td><td>0</td><td>0</td><td>80</td><td>326</td><td>5523.19</td><td>55827.28</td><td>2712.26</td><td>-498.62</td><td>2894.98</td><td>9</td><td>1</td><td>1</td><td>0</td><td>0.0</td><td>2</td><td>203511.58</td><td>0.0</td><td>4.5381e6</td><td>1</td><td>4.7940e6</td><td>3</td><td>0</td><td>0.0</td><td>1</td><td>17</td><td>21110.7</td><td>1</td><td>3</td><td>8848.31</td><td>0</td><td>0.0</td><td>0</td><td>0.0</td><td>0</td><td>&hellip;</td><td>0.0</td><td>0.0</td><td>1.5482e6</td><td>0</td><td>0</td><td>24</td><td>8857.15</td><td>-8857.15</td><td>0.0</td><td>5773</td><td>0.0</td><td>0</td><td>0</td><td>351.9</td><td>0</td><td>0</td><td>1.4028e6</td><td>-1095</td><td>null</td><td>18015.19</td><td>21131.81</td><td>0.0</td><td>12815.99</td><td>0.0</td><td>1558682.4</td><td>0</td><td>0</td><td>3</td><td>0.0</td><td>-26420.0</td><td>0.0</td><td>7702</td><td>12815.99</td><td>8</td><td>0</td><td>856.29</td><td>&quot;CONTINUA&quot;</td></tr><tr><td>31117977</td><td>202107</td><td>1</td><td>0</td><td>0</td><td>60</td><td>261</td><td>4819.35</td><td>37386.4</td><td>1878.4</td><td>-4232.87</td><td>6740.07</td><td>8</td><td>1</td><td>1</td><td>0</td><td>0.0</td><td>2</td><td>342041.99</td><td>0.0</td><td>68286.2</td><td>1</td><td>397138.73</td><td>3</td><td>66</td><td>149763.44</td><td>1</td><td>26</td><td>172251.2</td><td>1</td><td>0</td><td>0.0</td><td>0</td><td>0.0</td><td>0</td><td>0.0</td><td>0</td><td>&hellip;</td><td>null</td><td>null</td><td>849071.68</td><td>null</td><td>null</td><td>10</td><td>0.0</td><td>null</td><td>null</td><td>7368</td><td>null</td><td>null</td><td>null</td><td>0.0</td><td>0</td><td>0</td><td>1.0689e6</td><td>-456</td><td>null</td><td>148391.92</td><td>172264.43</td><td>1799.28</td><td>157186.12</td><td>7.7</td><td>1.1877e6</td><td>0</td><td>0</td><td>24</td><td>174063.72</td><td>-160642.13</td><td>12.89</td><td>7949</td><td>157186.12</td><td>27</td><td>0</td><td>9548.22</td><td>&quot;CONTINUA&quot;</td></tr></tbody></table></div>"
      ],
      "text/plain": [
       "shape: (5, 155)\n",
       "┌───────────┬──────────┬───────────┬───────────┬───┬───────────┬───────────┬───────────┬───────────┐\n",
       "│ numero_de ┆ foto_mes ┆ active_qu ┆ cliente_v ┆ … ┆ Visa_ccon ┆ Visa_cade ┆ Visa_mpag ┆ clase_ter │\n",
       "│ _cliente  ┆ ---      ┆ arter     ┆ ip        ┆   ┆ sumos     ┆ lantosefe ┆ ominimo   ┆ naria     │\n",
       "│ ---       ┆ i64      ┆ ---       ┆ ---       ┆   ┆ ---       ┆ ctivo     ┆ ---       ┆ ---       │\n",
       "│ i64       ┆          ┆ i64       ┆ i64       ┆   ┆ i64       ┆ ---       ┆ f64       ┆ str       │\n",
       "│           ┆          ┆           ┆           ┆   ┆           ┆ i64       ┆           ┆           │\n",
       "╞═══════════╪══════════╪═══════════╪═══════════╪═══╪═══════════╪═══════════╪═══════════╪═══════════╡\n",
       "│ 31116053  ┆ 202107   ┆ 1         ┆ 0         ┆ … ┆ 75        ┆ 0         ┆ 77617.41  ┆ CONTINUA  │\n",
       "│ 31116803  ┆ 202107   ┆ 1         ┆ 0         ┆ … ┆ 7         ┆ 0         ┆ 4938.33   ┆ CONTINUA  │\n",
       "│ 31117730  ┆ 202107   ┆ 1         ┆ 0         ┆ … ┆ 2         ┆ 0         ┆ 1407.6    ┆ CONTINUA  │\n",
       "│ 31117908  ┆ 202107   ┆ 1         ┆ 0         ┆ … ┆ 8         ┆ 0         ┆ 856.29    ┆ CONTINUA  │\n",
       "│ 31117977  ┆ 202107   ┆ 1         ┆ 0         ┆ … ┆ 27        ┆ 0         ┆ 9548.22   ┆ CONTINUA  │\n",
       "└───────────┴──────────┴───────────┴───────────┴───┴───────────┴───────────┴───────────┴───────────┘"
      ]
     },
     "execution_count": 138,
     "metadata": {},
     "output_type": "execute_result"
    }
   ],
   "source": [
    "df.head(5)\n"
   ]
  },
  {
   "cell_type": "code",
   "execution_count": 139,
   "metadata": {},
   "outputs": [
    {
     "data": {
      "text/plain": [
       "(329919, 155)"
      ]
     },
     "execution_count": 139,
     "metadata": {},
     "output_type": "execute_result"
    }
   ],
   "source": [
    "df.shape"
   ]
  },
  {
   "cell_type": "markdown",
   "metadata": {},
   "source": [
    "Seteo los meses que se van a usar como entrenamiento y cuales para evaluar la ganancia"
   ]
  },
  {
   "cell_type": "code",
   "execution_count": 140,
   "metadata": {},
   "outputs": [],
   "source": [
    "training_month = [ 202107 ]\n",
    "testing_month = [ 202109 ]"
   ]
  },
  {
   "cell_type": "code",
   "execution_count": 141,
   "metadata": {},
   "outputs": [
    {
     "data": {
      "text/plain": [
       "{'BAJA+1', 'BAJA+2', 'CONTINUA', None}"
      ]
     },
     "execution_count": 141,
     "metadata": {},
     "output_type": "execute_result"
    }
   ],
   "source": [
    "set(df['clase_ternaria'])"
   ]
  },
  {
   "cell_type": "code",
   "execution_count": 142,
   "metadata": {},
   "outputs": [],
   "source": [
    "df = df.with_columns(pl.col(\"clase_ternaria\")\\\n",
    "    .map_elements(lambda x : 0 if x == \"CONTINUA\" else 1, None)\\\n",
    "    .alias(\"clase01\"))"
   ]
  },
  {
   "cell_type": "code",
   "execution_count": 143,
   "metadata": {},
   "outputs": [
    {
     "data": {
      "text/plain": [
       "{0, 1, None}"
      ]
     },
     "execution_count": 143,
     "metadata": {},
     "output_type": "execute_result"
    }
   ],
   "source": [
    "set(df['clase01'])"
   ]
  },
  {
   "cell_type": "code",
   "execution_count": 144,
   "metadata": {},
   "outputs": [
    {
     "data": {
      "text/html": [
       "<div><style>\n",
       ".dataframe > thead > tr > th,\n",
       ".dataframe > tbody > tr > td {\n",
       "  text-align: right;\n",
       "  white-space: pre-wrap;\n",
       "}\n",
       "</style>\n",
       "<small>shape: (5, 156)</small><table border=\"1\" class=\"dataframe\"><thead><tr><th>numero_de_cliente</th><th>foto_mes</th><th>active_quarter</th><th>cliente_vip</th><th>internet</th><th>cliente_edad</th><th>cliente_antiguedad</th><th>mrentabilidad</th><th>mrentabilidad_annual</th><th>mcomisiones</th><th>mactivos_margen</th><th>mpasivos_margen</th><th>cproductos</th><th>tcuentas</th><th>ccuenta_corriente</th><th>mcuenta_corriente_adicional</th><th>mcuenta_corriente</th><th>ccaja_ahorro</th><th>mcaja_ahorro</th><th>mcaja_ahorro_adicional</th><th>mcaja_ahorro_dolares</th><th>cdescubierto_preacordado</th><th>mcuentas_saldo</th><th>ctarjeta_debito</th><th>ctarjeta_debito_transacciones</th><th>mautoservicio</th><th>ctarjeta_visa</th><th>ctarjeta_visa_transacciones</th><th>mtarjeta_visa_consumo</th><th>ctarjeta_master</th><th>ctarjeta_master_transacciones</th><th>mtarjeta_master_consumo</th><th>cprestamos_personales</th><th>mprestamos_personales</th><th>cprestamos_prendarios</th><th>mprestamos_prendarios</th><th>cprestamos_hipotecarios</th><th>&hellip;</th><th>Master_mconsumosdolares</th><th>Master_mlimitecompra</th><th>Master_madelantopesos</th><th>Master_madelantodolares</th><th>Master_fultimo_cierre</th><th>Master_mpagado</th><th>Master_mpagospesos</th><th>Master_mpagosdolares</th><th>Master_fechaalta</th><th>Master_mconsumototal</th><th>Master_cconsumos</th><th>Master_cadelantosefectivo</th><th>Master_mpagominimo</th><th>Visa_delinquency</th><th>Visa_status</th><th>Visa_mfinanciacion_limite</th><th>Visa_Fvencimiento</th><th>Visa_Finiciomora</th><th>Visa_msaldototal</th><th>Visa_msaldopesos</th><th>Visa_msaldodolares</th><th>Visa_mconsumospesos</th><th>Visa_mconsumosdolares</th><th>Visa_mlimitecompra</th><th>Visa_madelantopesos</th><th>Visa_madelantodolares</th><th>Visa_fultimo_cierre</th><th>Visa_mpagado</th><th>Visa_mpagospesos</th><th>Visa_mpagosdolares</th><th>Visa_fechaalta</th><th>Visa_mconsumototal</th><th>Visa_cconsumos</th><th>Visa_cadelantosefectivo</th><th>Visa_mpagominimo</th><th>clase_ternaria</th><th>clase01</th></tr><tr><td>i64</td><td>i64</td><td>i64</td><td>i64</td><td>i64</td><td>i64</td><td>i64</td><td>f64</td><td>f64</td><td>f64</td><td>f64</td><td>f64</td><td>i64</td><td>i64</td><td>i64</td><td>i64</td><td>f64</td><td>i64</td><td>f64</td><td>f64</td><td>f64</td><td>i64</td><td>f64</td><td>i64</td><td>i64</td><td>f64</td><td>i64</td><td>i64</td><td>f64</td><td>i64</td><td>i64</td><td>f64</td><td>i64</td><td>f64</td><td>i64</td><td>f64</td><td>i64</td><td>&hellip;</td><td>f64</td><td>f64</td><td>i64</td><td>i64</td><td>i64</td><td>f64</td><td>f64</td><td>f64</td><td>i64</td><td>f64</td><td>i64</td><td>i64</td><td>f64</td><td>i64</td><td>i64</td><td>f64</td><td>i64</td><td>str</td><td>f64</td><td>f64</td><td>f64</td><td>f64</td><td>f64</td><td>f64</td><td>i64</td><td>i64</td><td>i64</td><td>f64</td><td>f64</td><td>f64</td><td>i64</td><td>f64</td><td>i64</td><td>i64</td><td>f64</td><td>str</td><td>i64</td></tr></thead><tbody><tr><td>31116053</td><td>202107</td><td>1</td><td>0</td><td>0</td><td>50</td><td>201</td><td>13073.36</td><td>161035.99</td><td>3163.52</td><td>5554.23</td><td>2894.06</td><td>8</td><td>1</td><td>1</td><td>0</td><td>-1324.9</td><td>2</td><td>54545.59</td><td>0.0</td><td>1.0715e6</td><td>1</td><td>1.2235e6</td><td>1</td><td>15</td><td>15370.99</td><td>1</td><td>126</td><td>161078.91</td><td>1</td><td>54</td><td>92208.79</td><td>0</td><td>0.0</td><td>0</td><td>0.0</td><td>0</td><td>&hellip;</td><td>0.0</td><td>1.5550e6</td><td>0</td><td>0</td><td>10</td><td>0.0</td><td>-22873.5</td><td>0.0</td><td>6060</td><td>73018.61</td><td>34</td><td>0</td><td>28386.6</td><td>0</td><td>0</td><td>1399475.5</td><td>-517</td><td>null</td><td>596694.3</td><td>695387.54</td><td>4534.86</td><td>121585.39</td><td>34.48</td><td>1.5550e6</td><td>0</td><td>0</td><td>10</td><td>0.0</td><td>-82110.0</td><td>0.0</td><td>6060</td><td>121585.39</td><td>75</td><td>0</td><td>77617.41</td><td>&quot;CONTINUA&quot;</td><td>0</td></tr><tr><td>31116803</td><td>202107</td><td>1</td><td>0</td><td>0</td><td>59</td><td>326</td><td>2640.48</td><td>56751.51</td><td>5232.22</td><td>-4483.75</td><td>2274.25</td><td>9</td><td>1</td><td>1</td><td>0</td><td>20105.36</td><td>2</td><td>76350.74</td><td>0.0</td><td>0.0</td><td>1</td><td>99393.19</td><td>2</td><td>0</td><td>0.0</td><td>1</td><td>8</td><td>49943.72</td><td>1</td><td>9</td><td>75147.77</td><td>0</td><td>0.0</td><td>0</td><td>0.0</td><td>0</td><td>&hellip;</td><td>0.0</td><td>394128.0</td><td>0</td><td>0</td><td>24</td><td>75147.77</td><td>-74768.49</td><td>0.0</td><td>4219</td><td>62071.17</td><td>7</td><td>0</td><td>3284.4</td><td>0</td><td>0</td><td>506736.0</td><td>-913</td><td>null</td><td>43646.39</td><td>49496.83</td><td>1700.38</td><td>21596.4</td><td>15.15</td><td>563040.0</td><td>0</td><td>0</td><td>3</td><td>0.0</td><td>-85347.94</td><td>17.59</td><td>4211</td><td>21596.4</td><td>7</td><td>0</td><td>4938.33</td><td>&quot;CONTINUA&quot;</td><td>0</td></tr><tr><td>31117730</td><td>202107</td><td>1</td><td>0</td><td>0</td><td>68</td><td>272</td><td>1343.51</td><td>20201.31</td><td>582.94</td><td>-780.79</td><td>1429.19</td><td>8</td><td>1</td><td>1</td><td>0</td><td>0.0</td><td>2</td><td>104101.97</td><td>0.0</td><td>0.0</td><td>1</td><td>104102.23</td><td>2</td><td>0</td><td>0.0</td><td>1</td><td>3</td><td>4481.25</td><td>0</td><td>0</td><td>0.0</td><td>0</td><td>0.0</td><td>0</td><td>0.0</td><td>0</td><td>&hellip;</td><td>null</td><td>null</td><td>null</td><td>null</td><td>null</td><td>null</td><td>null</td><td>null</td><td>null</td><td>null</td><td>null</td><td>null</td><td>null</td><td>0</td><td>0</td><td>63342.0</td><td>-1917</td><td>null</td><td>3712.47</td><td>4354.72</td><td>0.0</td><td>1529.02</td><td>0.0</td><td>70380.0</td><td>0</td><td>0</td><td>24</td><td>4692.0</td><td>-4692.0</td><td>0.0</td><td>7951</td><td>1529.02</td><td>2</td><td>0</td><td>1407.6</td><td>&quot;CONTINUA&quot;</td><td>0</td></tr><tr><td>31117908</td><td>202107</td><td>1</td><td>0</td><td>0</td><td>80</td><td>326</td><td>5523.19</td><td>55827.28</td><td>2712.26</td><td>-498.62</td><td>2894.98</td><td>9</td><td>1</td><td>1</td><td>0</td><td>0.0</td><td>2</td><td>203511.58</td><td>0.0</td><td>4.5381e6</td><td>1</td><td>4.7940e6</td><td>3</td><td>0</td><td>0.0</td><td>1</td><td>17</td><td>21110.7</td><td>1</td><td>3</td><td>8848.31</td><td>0</td><td>0.0</td><td>0</td><td>0.0</td><td>0</td><td>&hellip;</td><td>0.0</td><td>1.5482e6</td><td>0</td><td>0</td><td>24</td><td>8857.15</td><td>-8857.15</td><td>0.0</td><td>5773</td><td>0.0</td><td>0</td><td>0</td><td>351.9</td><td>0</td><td>0</td><td>1.4028e6</td><td>-1095</td><td>null</td><td>18015.19</td><td>21131.81</td><td>0.0</td><td>12815.99</td><td>0.0</td><td>1558682.4</td><td>0</td><td>0</td><td>3</td><td>0.0</td><td>-26420.0</td><td>0.0</td><td>7702</td><td>12815.99</td><td>8</td><td>0</td><td>856.29</td><td>&quot;CONTINUA&quot;</td><td>0</td></tr><tr><td>31117977</td><td>202107</td><td>1</td><td>0</td><td>0</td><td>60</td><td>261</td><td>4819.35</td><td>37386.4</td><td>1878.4</td><td>-4232.87</td><td>6740.07</td><td>8</td><td>1</td><td>1</td><td>0</td><td>0.0</td><td>2</td><td>342041.99</td><td>0.0</td><td>68286.2</td><td>1</td><td>397138.73</td><td>3</td><td>66</td><td>149763.44</td><td>1</td><td>26</td><td>172251.2</td><td>1</td><td>0</td><td>0.0</td><td>0</td><td>0.0</td><td>0</td><td>0.0</td><td>0</td><td>&hellip;</td><td>null</td><td>849071.68</td><td>null</td><td>null</td><td>10</td><td>0.0</td><td>null</td><td>null</td><td>7368</td><td>null</td><td>null</td><td>null</td><td>0.0</td><td>0</td><td>0</td><td>1.0689e6</td><td>-456</td><td>null</td><td>148391.92</td><td>172264.43</td><td>1799.28</td><td>157186.12</td><td>7.7</td><td>1.1877e6</td><td>0</td><td>0</td><td>24</td><td>174063.72</td><td>-160642.13</td><td>12.89</td><td>7949</td><td>157186.12</td><td>27</td><td>0</td><td>9548.22</td><td>&quot;CONTINUA&quot;</td><td>0</td></tr></tbody></table></div>"
      ],
      "text/plain": [
       "shape: (5, 156)\n",
       "┌────────────┬──────────┬────────────┬───────────┬───┬───────────┬───────────┬───────────┬─────────┐\n",
       "│ numero_de_ ┆ foto_mes ┆ active_qua ┆ cliente_v ┆ … ┆ Visa_cade ┆ Visa_mpag ┆ clase_ter ┆ clase01 │\n",
       "│ cliente    ┆ ---      ┆ rter       ┆ ip        ┆   ┆ lantosefe ┆ ominimo   ┆ naria     ┆ ---     │\n",
       "│ ---        ┆ i64      ┆ ---        ┆ ---       ┆   ┆ ctivo     ┆ ---       ┆ ---       ┆ i64     │\n",
       "│ i64        ┆          ┆ i64        ┆ i64       ┆   ┆ ---       ┆ f64       ┆ str       ┆         │\n",
       "│            ┆          ┆            ┆           ┆   ┆ i64       ┆           ┆           ┆         │\n",
       "╞════════════╪══════════╪════════════╪═══════════╪═══╪═══════════╪═══════════╪═══════════╪═════════╡\n",
       "│ 31116053   ┆ 202107   ┆ 1          ┆ 0         ┆ … ┆ 0         ┆ 77617.41  ┆ CONTINUA  ┆ 0       │\n",
       "│ 31116803   ┆ 202107   ┆ 1          ┆ 0         ┆ … ┆ 0         ┆ 4938.33   ┆ CONTINUA  ┆ 0       │\n",
       "│ 31117730   ┆ 202107   ┆ 1          ┆ 0         ┆ … ┆ 0         ┆ 1407.6    ┆ CONTINUA  ┆ 0       │\n",
       "│ 31117908   ┆ 202107   ┆ 1          ┆ 0         ┆ … ┆ 0         ┆ 856.29    ┆ CONTINUA  ┆ 0       │\n",
       "│ 31117977   ┆ 202107   ┆ 1          ┆ 0         ┆ … ┆ 0         ┆ 9548.22   ┆ CONTINUA  ┆ 0       │\n",
       "└────────────┴──────────┴────────────┴───────────┴───┴───────────┴───────────┴───────────┴─────────┘"
      ]
     },
     "execution_count": 144,
     "metadata": {},
     "output_type": "execute_result"
    }
   ],
   "source": [
    "df.head(5)"
   ]
  },
  {
   "cell_type": "markdown",
   "metadata": {},
   "source": [
    "Transformo las columnas en formato `str` a número\n"
   ]
  },
  {
   "cell_type": "code",
   "execution_count": 145,
   "metadata": {},
   "outputs": [],
   "source": [
    "df = df.with_columns(pl.col('Master_Finiciomora')\\\n",
    "    .map_elements(lambda x : int(x) if x != \"None\" else None)\\\n",
    "    .alias(\"Master_Finiciomora\"))\n",
    "df = df.with_columns(pl.col('Visa_Finiciomora')\\\n",
    "    .map_elements(lambda x : int(x) if x != \"None\" else None)\\\n",
    "    .alias(\"Visa_Finiciomora\"))"
   ]
  },
  {
   "cell_type": "markdown",
   "metadata": {},
   "source": [
    "Filtro las filas del row en datos de training y de testing"
   ]
  },
  {
   "cell_type": "code",
   "execution_count": 146,
   "metadata": {},
   "outputs": [],
   "source": [
    "training_df = df.filter(pl.col(\"foto_mes\").is_in(training_month))\n",
    "testing_df = df.filter(pl.col(\"foto_mes\").is_in(testing_month))"
   ]
  },
  {
   "cell_type": "code",
   "execution_count": 147,
   "metadata": {},
   "outputs": [
    {
     "name": "stdout",
     "output_type": "stream",
     "text": [
      " training_df.shape = (164682, 156)\n",
      " testing_df.shape = (165237, 156)\n"
     ]
    }
   ],
   "source": [
    "print(f'{ training_df.shape = }')\n",
    "print(f'{ testing_df.shape = }')"
   ]
  },
  {
   "cell_type": "code",
   "execution_count": 148,
   "metadata": {},
   "outputs": [],
   "source": [
    "Y = training_df['clase01'].to_pandas()\n",
    "ignored_indep_feat = [ \"foto_mes\", \"clase_ternaria\", \"clase01\" ]\n",
    "X = training_df.drop(ignored_indep_feat).to_pandas()\n"
   ]
  },
  {
   "cell_type": "code",
   "execution_count": 149,
   "metadata": {},
   "outputs": [],
   "source": [
    "X_eval = testing_df.drop(ignored_indep_feat).to_pandas()"
   ]
  },
  {
   "cell_type": "code",
   "execution_count": 150,
   "metadata": {},
   "outputs": [
    {
     "name": "stdout",
     "output_type": "stream",
     "text": [
      " X.shape = (164682, 153)\n",
      " Y.shape = (164682,)\n",
      " X_eval.shape = (165237, 153)\n"
     ]
    }
   ],
   "source": [
    "print(f'{ X.shape = }')\n",
    "print(f'{ Y.shape = }')\n",
    "print(f'{ X_eval.shape = }')\n",
    "\n"
   ]
  },
  {
   "cell_type": "code",
   "execution_count": 162,
   "metadata": {},
   "outputs": [],
   "source": [
    "# Execute lightgbm with the default hyperparameters\n",
    "model = lgm.LGBMRegressor(\n",
    "    objective = \"binary\",\n",
    "    max_bin=31,\n",
    "    learning_rate=0.0100746999,\n",
    "    feature_fraction=0.5144127527,\n",
    "    num_iterations=559,\n",
    "    min_data_in_leaf=505,\n",
    "    num_leaves=44,\n",
    "    seed = SEMILLA\n",
    ")\n"
   ]
  },
  {
   "cell_type": "code",
   "execution_count": 163,
   "metadata": {},
   "outputs": [],
   "source": [
    "# Create train and test splits\n",
    "from sklearn.model_selection import train_test_split\n",
    "X_train, X_test, Y_train, Y_test = train_test_split(X, Y, test_size=0.2, random_state=42)"
   ]
  },
  {
   "cell_type": "code",
   "execution_count": 164,
   "metadata": {},
   "outputs": [
    {
     "name": "stderr",
     "output_type": "stream",
     "text": [
      "/Users/fede/.local/share/virtualenvs/src_py-DJPQCuwV/lib/python3.11/site-packages/lightgbm/engine.py:172: UserWarning: Found `num_iterations` in params. Will use it instead of argument\n",
      "  _log_warning(f\"Found `{alias}` in params. Will use it instead of argument\")\n"
     ]
    },
    {
     "name": "stdout",
     "output_type": "stream",
     "text": [
      "[LightGBM] [Warning] feature_fraction is set=0.5144127527, colsample_bytree=1.0 will be ignored. Current value: feature_fraction=0.5144127527\n",
      "[LightGBM] [Warning] min_data_in_leaf is set=505, min_child_samples=20 will be ignored. Current value: min_data_in_leaf=505\n",
      "[LightGBM] [Warning] feature_fraction is set=0.5144127527, colsample_bytree=1.0 will be ignored. Current value: feature_fraction=0.5144127527\n",
      "[LightGBM] [Warning] min_data_in_leaf is set=505, min_child_samples=20 will be ignored. Current value: min_data_in_leaf=505\n",
      "[LightGBM] [Info] Number of positive: 2346, number of negative: 162336\n",
      "[LightGBM] [Info] Auto-choosing row-wise multi-threading, the overhead of testing was 0.027453 seconds.\n",
      "You can set `force_row_wise=true` to remove the overhead.\n",
      "And if memory is not enough, you can set `force_col_wise=true`.\n",
      "[LightGBM] [Info] Total Bins 3364\n",
      "[LightGBM] [Info] Number of data points in the train set: 164682, number of used features: 142\n",
      "[LightGBM] [Warning] feature_fraction is set=0.5144127527, colsample_bytree=1.0 will be ignored. Current value: feature_fraction=0.5144127527\n",
      "[LightGBM] [Warning] min_data_in_leaf is set=505, min_child_samples=20 will be ignored. Current value: min_data_in_leaf=505\n",
      "[LightGBM] [Info] [binary:BoostFromScore]: pavg=0.014246 -> initscore=-4.236957\n",
      "[LightGBM] [Info] Start training from score -4.236957\n"
     ]
    },
    {
     "data": {
      "text/html": [
       "<style>#sk-container-id-6 {color: black;}#sk-container-id-6 pre{padding: 0;}#sk-container-id-6 div.sk-toggleable {background-color: white;}#sk-container-id-6 label.sk-toggleable__label {cursor: pointer;display: block;width: 100%;margin-bottom: 0;padding: 0.3em;box-sizing: border-box;text-align: center;}#sk-container-id-6 label.sk-toggleable__label-arrow:before {content: \"▸\";float: left;margin-right: 0.25em;color: #696969;}#sk-container-id-6 label.sk-toggleable__label-arrow:hover:before {color: black;}#sk-container-id-6 div.sk-estimator:hover label.sk-toggleable__label-arrow:before {color: black;}#sk-container-id-6 div.sk-toggleable__content {max-height: 0;max-width: 0;overflow: hidden;text-align: left;background-color: #f0f8ff;}#sk-container-id-6 div.sk-toggleable__content pre {margin: 0.2em;color: black;border-radius: 0.25em;background-color: #f0f8ff;}#sk-container-id-6 input.sk-toggleable__control:checked~div.sk-toggleable__content {max-height: 200px;max-width: 100%;overflow: auto;}#sk-container-id-6 input.sk-toggleable__control:checked~label.sk-toggleable__label-arrow:before {content: \"▾\";}#sk-container-id-6 div.sk-estimator input.sk-toggleable__control:checked~label.sk-toggleable__label {background-color: #d4ebff;}#sk-container-id-6 div.sk-label input.sk-toggleable__control:checked~label.sk-toggleable__label {background-color: #d4ebff;}#sk-container-id-6 input.sk-hidden--visually {border: 0;clip: rect(1px 1px 1px 1px);clip: rect(1px, 1px, 1px, 1px);height: 1px;margin: -1px;overflow: hidden;padding: 0;position: absolute;width: 1px;}#sk-container-id-6 div.sk-estimator {font-family: monospace;background-color: #f0f8ff;border: 1px dotted black;border-radius: 0.25em;box-sizing: border-box;margin-bottom: 0.5em;}#sk-container-id-6 div.sk-estimator:hover {background-color: #d4ebff;}#sk-container-id-6 div.sk-parallel-item::after {content: \"\";width: 100%;border-bottom: 1px solid gray;flex-grow: 1;}#sk-container-id-6 div.sk-label:hover label.sk-toggleable__label {background-color: #d4ebff;}#sk-container-id-6 div.sk-serial::before {content: \"\";position: absolute;border-left: 1px solid gray;box-sizing: border-box;top: 0;bottom: 0;left: 50%;z-index: 0;}#sk-container-id-6 div.sk-serial {display: flex;flex-direction: column;align-items: center;background-color: white;padding-right: 0.2em;padding-left: 0.2em;position: relative;}#sk-container-id-6 div.sk-item {position: relative;z-index: 1;}#sk-container-id-6 div.sk-parallel {display: flex;align-items: stretch;justify-content: center;background-color: white;position: relative;}#sk-container-id-6 div.sk-item::before, #sk-container-id-6 div.sk-parallel-item::before {content: \"\";position: absolute;border-left: 1px solid gray;box-sizing: border-box;top: 0;bottom: 0;left: 50%;z-index: -1;}#sk-container-id-6 div.sk-parallel-item {display: flex;flex-direction: column;z-index: 1;position: relative;background-color: white;}#sk-container-id-6 div.sk-parallel-item:first-child::after {align-self: flex-end;width: 50%;}#sk-container-id-6 div.sk-parallel-item:last-child::after {align-self: flex-start;width: 50%;}#sk-container-id-6 div.sk-parallel-item:only-child::after {width: 0;}#sk-container-id-6 div.sk-dashed-wrapped {border: 1px dashed gray;margin: 0 0.4em 0.5em 0.4em;box-sizing: border-box;padding-bottom: 0.4em;background-color: white;}#sk-container-id-6 div.sk-label label {font-family: monospace;font-weight: bold;display: inline-block;line-height: 1.2em;}#sk-container-id-6 div.sk-label-container {text-align: center;}#sk-container-id-6 div.sk-container {/* jupyter's `normalize.less` sets `[hidden] { display: none; }` but bootstrap.min.css set `[hidden] { display: none !important; }` so we also need the `!important` here to be able to override the default hidden behavior on the sphinx rendered scikit-learn.org. See: https://github.com/scikit-learn/scikit-learn/issues/21755 */display: inline-block !important;position: relative;}#sk-container-id-6 div.sk-text-repr-fallback {display: none;}</style><div id=\"sk-container-id-6\" class=\"sk-top-container\"><div class=\"sk-text-repr-fallback\"><pre>LGBMRegressor(feature_fraction=0.5144127527, learning_rate=0.0100746999,\n",
       "              max_bin=31, min_data_in_leaf=505, num_iterations=559,\n",
       "              num_leaves=44, objective=&#x27;binary&#x27;, seed=800089)</pre><b>In a Jupyter environment, please rerun this cell to show the HTML representation or trust the notebook. <br />On GitHub, the HTML representation is unable to render, please try loading this page with nbviewer.org.</b></div><div class=\"sk-container\" hidden><div class=\"sk-item\"><div class=\"sk-estimator sk-toggleable\"><input class=\"sk-toggleable__control sk-hidden--visually\" id=\"sk-estimator-id-6\" type=\"checkbox\" checked><label for=\"sk-estimator-id-6\" class=\"sk-toggleable__label sk-toggleable__label-arrow\">LGBMRegressor</label><div class=\"sk-toggleable__content\"><pre>LGBMRegressor(feature_fraction=0.5144127527, learning_rate=0.0100746999,\n",
       "              max_bin=31, min_data_in_leaf=505, num_iterations=559,\n",
       "              num_leaves=44, objective=&#x27;binary&#x27;, seed=800089)</pre></div></div></div></div></div>"
      ],
      "text/plain": [
       "LGBMRegressor(feature_fraction=0.5144127527, learning_rate=0.0100746999,\n",
       "              max_bin=31, min_data_in_leaf=505, num_iterations=559,\n",
       "              num_leaves=44, objective='binary', seed=800089)"
      ]
     },
     "execution_count": 164,
     "metadata": {},
     "output_type": "execute_result"
    }
   ],
   "source": [
    "\n",
    "\n",
    "model.fit(X, Y, eval_set=[(X_test, Y_test)], eval_metric='l1')"
   ]
  },
  {
   "cell_type": "code",
   "execution_count": 165,
   "metadata": {},
   "outputs": [
    {
     "name": "stdout",
     "output_type": "stream",
     "text": [
      "[LightGBM] [Warning] feature_fraction is set=0.5144127527, colsample_bytree=1.0 will be ignored. Current value: feature_fraction=0.5144127527\n",
      "[LightGBM] [Warning] min_data_in_leaf is set=505, min_child_samples=20 will be ignored. Current value: min_data_in_leaf=505\n"
     ]
    }
   ],
   "source": [
    "Y_eval = model.predict(X_eval)"
   ]
  },
  {
   "cell_type": "code",
   "execution_count": 169,
   "metadata": {},
   "outputs": [],
   "source": [
    "prediction = pl.DataFrame({\n",
    "    'numero_de_cliente': X_eval['numero_de_cliente'],\n",
    "    'Prob': Y_eval\n",
    "})\n",
    "prediction = prediction.sort(by=\"Prob\", descending=True)\n"
   ]
  },
  {
   "cell_type": "code",
   "execution_count": 170,
   "metadata": {},
   "outputs": [
    {
     "data": {
      "text/html": [
       "<div><style>\n",
       ".dataframe > thead > tr > th,\n",
       ".dataframe > tbody > tr > td {\n",
       "  text-align: right;\n",
       "  white-space: pre-wrap;\n",
       "}\n",
       "</style>\n",
       "<small>shape: (10, 2)</small><table border=\"1\" class=\"dataframe\"><thead><tr><th>numero_de_cliente</th><th>Prob</th></tr><tr><td>i64</td><td>f64</td></tr></thead><tbody><tr><td>185782164</td><td>0.824916</td></tr><tr><td>92289921</td><td>0.810047</td></tr><tr><td>145816140</td><td>0.801692</td></tr><tr><td>61607602</td><td>0.770551</td></tr><tr><td>138311471</td><td>0.751978</td></tr><tr><td>87299159</td><td>0.748458</td></tr><tr><td>150317301</td><td>0.747096</td></tr><tr><td>146577767</td><td>0.725225</td></tr><tr><td>192181921</td><td>0.705728</td></tr><tr><td>83332940</td><td>0.704309</td></tr></tbody></table></div>"
      ],
      "text/plain": [
       "shape: (10, 2)\n",
       "┌───────────────────┬──────────┐\n",
       "│ numero_de_cliente ┆ Prob     │\n",
       "│ ---               ┆ ---      │\n",
       "│ i64               ┆ f64      │\n",
       "╞═══════════════════╪══════════╡\n",
       "│ 185782164         ┆ 0.824916 │\n",
       "│ 92289921          ┆ 0.810047 │\n",
       "│ 145816140         ┆ 0.801692 │\n",
       "│ 61607602          ┆ 0.770551 │\n",
       "│ …                 ┆ …        │\n",
       "│ 150317301         ┆ 0.747096 │\n",
       "│ 146577767         ┆ 0.725225 │\n",
       "│ 192181921         ┆ 0.705728 │\n",
       "│ 83332940          ┆ 0.704309 │\n",
       "└───────────────────┴──────────┘"
      ]
     },
     "execution_count": 170,
     "metadata": {},
     "output_type": "execute_result"
    }
   ],
   "source": [
    "prediction.head(10)"
   ]
  },
  {
   "cell_type": "code",
   "execution_count": 175,
   "metadata": {},
   "outputs": [],
   "source": [
    "csv_src = prediction['numero_de_cliente'].to_frame().with_row_count(\"row_nr\")\n",
    "\n"
   ]
  },
  {
   "cell_type": "code",
   "execution_count": 181,
   "metadata": {},
   "outputs": [],
   "source": [
    "for i in range(8000, 12000, 500):\n",
    "    csv_src.with_columns(pl.col(\"row_nr\")\\\n",
    "        .map_elements(lambda x : 1 if x < i else 0)\\\n",
    "        .alias(\"Predicted\"))\\\n",
    "        .drop(\"row_nr\")\\\n",
    "        .write_csv(f'prediction_{i}.csv')"
   ]
  },
  {
   "cell_type": "code",
   "execution_count": null,
   "metadata": {},
   "outputs": [],
   "source": []
  }
 ],
 "metadata": {
  "kernelspec": {
   "display_name": "src_py-DJPQCuwV",
   "language": "python",
   "name": "python3"
  },
  "language_info": {
   "codemirror_mode": {
    "name": "ipython",
    "version": 3
   },
   "file_extension": ".py",
   "mimetype": "text/x-python",
   "name": "python",
   "nbconvert_exporter": "python",
   "pygments_lexer": "ipython3",
   "version": "3.11.4"
  },
  "orig_nbformat": 4
 },
 "nbformat": 4,
 "nbformat_minor": 2
}
